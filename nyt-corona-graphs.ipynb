{
 "cells": [
  {
   "cell_type": "code",
   "execution_count": null,
   "metadata": {},
   "outputs": [],
   "source": [
    "# Setup our notebook tools\n",
    "import pandas as pd\n",
    "import plotly.express as px\n",
    "import numpy\n",
    "\n",
    "def deltas(dataframe, column, category):\n",
    "    # Return a new series containing changes by category\n",
    "    column_name = column + \"_deltas\"\n",
    "    column_data = [0] * len(dataframe.index)\n",
    "    series = pd.Series(name=column_name, data=column_data, index=dataframe.index)\n",
    "    last_data = {}\n",
    "    for index, row in dataframe.iterrows():\n",
    "        try:\n",
    "            last = last_data[row[category]]\n",
    "        except KeyError:\n",
    "            last = 0\n",
    "        series[index] = row[column] - last\n",
    "        if series[index] < 0:\n",
    "            series[index] = 0\n",
    "        last_data[row[category]] = row[column]\n",
    "    return series\n",
    "\n",
    "df = pd.read_csv(\"https://raw.githubusercontent.com/nytimes/covid-19-data/master/us-states.csv\")\n",
    "states = ['Virginia', 'Ohio', 'Georgia', 'West Virginia', 'Florida', 'South Carolina', 'California', 'New York']\n",
    "tail_size = len(states)"
   ]
  },
  {
   "cell_type": "code",
   "execution_count": null,
   "metadata": {},
   "outputs": [],
   "source": [
    "# Cast our dates to bonafide datetimes\n",
    "df['date'] = pd.to_datetime(df['date'])\n",
    "# Sort the dataframe by date\n",
    "df = df.sort_values(by=['date'])\n",
    "\n",
    "# Narrow the dataset to states we're interested in\n",
    "states_query = ' | '.join(['state == \"' + state + '\"' for state in states])\n",
    "df = df.query(states_query)"
   ]
  },
  {
   "cell_type": "code",
   "execution_count": null,
   "metadata": {},
   "outputs": [],
   "source": [
    "df = df.assign(\n",
    "    timestamps=pd.Series(\n",
    "        name='timestamps',\n",
    "        data=[ int(row['date'].timestamp()) for index, row in df.iterrows() ],\n",
    "        index=df.index\n",
    "    )\n",
    ")"
   ]
  },
  {
   "cell_type": "code",
   "execution_count": null,
   "metadata": {
    "scrolled": false
   },
   "outputs": [],
   "source": [
    "px.line(df, x='date', y='cases', color='state', title=\"COVID 19 Cases For Select US States vs Date\")"
   ]
  },
  {
   "cell_type": "code",
   "execution_count": null,
   "metadata": {
    "scrolled": false
   },
   "outputs": [],
   "source": [
    "cases_delta = deltas(df, \"cases\", \"state\")\n",
    "df = df.assign(cases_delta=cases_delta)\n",
    "deaths_delta = deltas(df, \"deaths\", \"state\")\n",
    "df = df.assign(deaths_delta=deaths_delta)\n",
    "df.tail(tail_size)"
   ]
  },
  {
   "cell_type": "code",
   "execution_count": null,
   "metadata": {},
   "outputs": [],
   "source": [
    "px.scatter(df, x='date', y='cases_delta', color='state', title='COVID 19 Change in Cases Per Day For Select US States vs Date', trendline='lowess')"
   ]
  },
  {
   "cell_type": "code",
   "execution_count": null,
   "metadata": {},
   "outputs": [],
   "source": [
    "# source: the info box at the top of a google search\n",
    "# that tries to guess the thing you were googling for\n",
    "facts_by_state = {\n",
    "    'Virginia': {\n",
    "        'population': 8518000,\n",
    "        'density': 202.6\n",
    "    },\n",
    "    'Ohio': {\n",
    "        'population': 11690000,\n",
    "        'density': 282.3\n",
    "    },\n",
    "    'Georgia': {\n",
    "        'population': 10520000,\n",
    "        'density': 149.0\n",
    "    },\n",
    "    'West Virginia': {\n",
    "        'population': 1806000,\n",
    "        'density': 77.1\n",
    "    },\n",
    "    'Florida': {\n",
    "        'population': 21300000,\n",
    "        'density': 353.4\n",
    "    },\n",
    "    'South Carolina': {\n",
    "        'population': 5419000,\n",
    "        'density': 157\n",
    "    },\n",
    "    'California': {\n",
    "        'population': 39510000,\n",
    "        'density': 251.3\n",
    "    },\n",
    "    'New York': {\n",
    "        'population': 19450000,\n",
    "        'density': 421\n",
    "    }\n",
    "}\n",
    "for state in facts_by_state.keys():\n",
    "    facts_by_state[state]['population_per_million'] = facts_by_state[state]['population'] / 1000000\n",
    "\n",
    "cases_per_million = pd.Series(\n",
    "    name='cases_per_million',\n",
    "    data=[0] * len(df.index),\n",
    "    index=df.index\n",
    ")\n",
    "\n",
    "for index, row in df.iterrows():\n",
    "    cases_per_million[index] = row.cases / facts_by_state[row.state]['population_per_million']\n",
    "df = df.assign(cases_per_million=cases_per_million)\n",
    "cases_delta = deltas(df, \"cases_per_million\", \"state\")\n",
    "df = df.assign(cases_per_million_delta=cases_delta)\n",
    "df.tail(tail_size)"
   ]
  },
  {
   "cell_type": "code",
   "execution_count": null,
   "metadata": {},
   "outputs": [],
   "source": [
    "px.line(df, x='date', y='cases_per_million', color='state', title='COVID 19 Total Cases Per Million People For Select US States vs Date')"
   ]
  },
  {
   "cell_type": "code",
   "execution_count": null,
   "metadata": {},
   "outputs": [],
   "source": [
    "df = df.query('date > \"2020-04-01\"')\n",
    "px.scatter(df, \n",
    "    x='timestamps', log_x=True,\n",
    "    y='cases_per_million_delta', log_y=True,\n",
    "    title='COVID 19 Change in Cases Per Million People Per Day For Select US States vs Date',\n",
    "    color='state', trendline='lowess'\n",
    ")"
   ]
  },
  {
   "cell_type": "code",
   "execution_count": null,
   "metadata": {},
   "outputs": [],
   "source": [
    "px.line(df, x='date', y='deaths', title='COVID 19 related deaths in select US states vs Date', color='state')"
   ]
  },
  {
   "cell_type": "code",
   "execution_count": null,
   "metadata": {},
   "outputs": [],
   "source": [
    "df.tail(tail_size*2)"
   ]
  },
  {
   "cell_type": "code",
   "execution_count": null,
   "metadata": {},
   "outputs": [],
   "source": []
  }
 ],
 "metadata": {
  "kernelspec": {
   "display_name": "Python 3",
   "language": "python",
   "name": "python3"
  },
  "language_info": {
   "codemirror_mode": {
    "name": "ipython",
    "version": 3
   },
   "file_extension": ".py",
   "mimetype": "text/x-python",
   "name": "python",
   "nbconvert_exporter": "python",
   "pygments_lexer": "ipython3",
   "version": "3.6.9"
  },
  "widgets": {
   "application/vnd.jupyter.widget-state+json": {
    "state": {},
    "version_major": 2,
    "version_minor": 0
   }
  }
 },
 "nbformat": 4,
 "nbformat_minor": 4
}
