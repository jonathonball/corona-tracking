{
 "cells": [
  {
   "cell_type": "code",
   "execution_count": null,
   "metadata": {},
   "outputs": [],
   "source": [
    "# Setup our notebook tools\n",
    "import pandas as pd\n",
    "import plotly.express as px\n",
    "import numpy\n",
    "\n",
    "def deltas(dataframe, column, category):\n",
    "    # Return a new series containing changes by category\n",
    "    column_name = \"column-\" + column\n",
    "    column_data = [0] * len(dataframe.index)\n",
    "    series = pd.Series(name=column_name, data=column_data, index=dataframe.index)\n",
    "    last_data = {}\n",
    "    for index, row in dataframe.iterrows():\n",
    "        try:\n",
    "            last = last_data[row[category]]\n",
    "        except KeyError:\n",
    "            last = 0\n",
    "        series[index] = row[column] - last\n",
    "        if series[index] < 0:\n",
    "            series[index] = 0\n",
    "        last_data[row[category]] = row[column]\n",
    "    return series\n",
    "\n",
    "df = pd.read_csv(\"https://raw.githubusercontent.com/nytimes/covid-19-data/master/us-states.csv\")\n",
    "states = ['Virginia', 'Ohio', 'Georgia', 'West Virginia']"
   ]
  },
  {
   "cell_type": "code",
   "execution_count": null,
   "metadata": {},
   "outputs": [],
   "source": [
    "# Cast our dates to bonafide datetimes\n",
    "df['date'] = pd.to_datetime(df['date'])\n",
    "# Sort the dataframe by date\n",
    "df_sorted = df.sort_values(by=['date'])\n",
    "\n",
    "# Narrow the dataset to states we're interested in\n",
    "states_query = ' | '.join(['state == \"' + state + '\"' for state in states])\n",
    "my_states = df_sorted.query(states_query)"
   ]
  },
  {
   "cell_type": "code",
   "execution_count": null,
   "metadata": {
    "scrolled": false
   },
   "outputs": [],
   "source": [
    "px.line(my_states, x='date', y='cases', color='state', title=\"COVID 19 Cases For Select US States vs Date\")"
   ]
  },
  {
   "cell_type": "code",
   "execution_count": null,
   "metadata": {
    "scrolled": false
   },
   "outputs": [],
   "source": [
    "cases_delta = deltas(my_states, \"cases\", \"state\")\n",
    "my_states_with_deltas = my_states.assign(cases_delta=cases_delta)\n",
    "deaths_delta = deltas(my_states, \"deaths\", \"state\")\n",
    "my_states_with_deltas = my_states_with_deltas.assign(deaths_delta=deaths_delta)\n",
    "my_states_with_deltas.tail(8)"
   ]
  },
  {
   "cell_type": "code",
   "execution_count": null,
   "metadata": {},
   "outputs": [],
   "source": [
    "px.scatter(my_states_with_deltas, x='date', y='cases_delta', color='state', title='COVID 19 Change in Cases Per Day For Select US States vs Date', trendline='ols')"
   ]
  },
  {
   "cell_type": "code",
   "execution_count": null,
   "metadata": {},
   "outputs": [],
   "source": [
    "facts_by_state = {\n",
    "    'Virginia': {\n",
    "        'population': 8518000,\n",
    "        'density': 202.6\n",
    "    },\n",
    "    'Ohio': {\n",
    "        'population': 11690000,\n",
    "        'density': 282.3\n",
    "    },\n",
    "    'Georgia': {\n",
    "        'population': 10520000,\n",
    "        'density': 149.0\n",
    "    },\n",
    "    'West Virginia': {\n",
    "        'population': 1806000,\n",
    "        'density': 77.1\n",
    "    }\n",
    "}\n",
    "for state in facts_by_state.keys():\n",
    "    facts_by_state[state]['population_per_million'] = facts_by_state[state]['population'] / 1000000"
   ]
  }
 ],
 "metadata": {
  "kernelspec": {
   "display_name": "Python 3",
   "language": "python",
   "name": "python3"
  },
  "language_info": {
   "codemirror_mode": {
    "name": "ipython",
    "version": 3
   },
   "file_extension": ".py",
   "mimetype": "text/x-python",
   "name": "python",
   "nbconvert_exporter": "python",
   "pygments_lexer": "ipython3",
   "version": "3.6.9"
  },
  "widgets": {
   "application/vnd.jupyter.widget-state+json": {
    "state": {},
    "version_major": 2,
    "version_minor": 0
   }
  }
 },
 "nbformat": 4,
 "nbformat_minor": 4
}
