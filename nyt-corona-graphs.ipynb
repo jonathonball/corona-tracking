{
 "cells": [
  {
   "cell_type": "code",
   "execution_count": null,
   "metadata": {},
   "outputs": [],
   "source": [
    "# Setup our notebook tools\n",
    "import pandas as pd\n",
    "import plotly.express as px\n",
    "import numpy\n",
    "\n",
    "# Read in data\n",
    "df = pd.read_csv(\"https://raw.githubusercontent.com/nytimes/covid-19-data/master/us-states.csv\")\n",
    "\n",
    "# Variables\n",
    "df_sorted = df.sort_values(by=['date'])\n",
    "states_query = 'state == \"Virginia\" | state == \"Ohio\" | state == \"Georgia\" | state == \"West Virginia\"'\n",
    "my_columns = ['date','state','cases']\n",
    "my_states = df_sorted[my_columns].query(states_query)"
   ]
  },
  {
   "cell_type": "code",
   "execution_count": null,
   "metadata": {
    "scrolled": false
   },
   "outputs": [],
   "source": [
    "px.line(my_states, x='date', y='cases', color='state', title=\"COVID 19 Cases For Select US States vs Date\")"
   ]
  },
  {
   "cell_type": "code",
   "execution_count": null,
   "metadata": {
    "scrolled": false
   },
   "outputs": [],
   "source": [
    "deltas = pd.Series(name=\"deltas\", data=[0] * len(my_states.index), index=my_states.index)\n",
    "delta_data = {}\n",
    "for index, row in my_states.iterrows():\n",
    "    try:\n",
    "        last = delta_data[row.state]\n",
    "    except KeyError:\n",
    "        last = 0\n",
    "    deltas[index] = row.cases - last\n",
    "    if deltas[index] < 0:  # Throwout days were data was revised down\n",
    "        deltas[index] = 0\n",
    "    delta_data[row.state] = row.cases\n",
    "    \n",
    "my_states = my_states.assign(deltas=deltas)\n",
    "my_states.tail(4)"
   ]
  },
  {
   "cell_type": "code",
   "execution_count": null,
   "metadata": {},
   "outputs": [],
   "source": [
    "for c in df.columns:\n",
    "    print(len(df[c]))\n",
    "#px.scatter(my_states, x='date', y='deltas', color='state', title=\"COVID 19 Change in Cases Per Day For Select US States vs Date\", trendline='ols')\n"
   ]
  },
  {
   "cell_type": "code",
   "execution_count": null,
   "metadata": {},
   "outputs": [],
   "source": [
    "facts_by_state = {\n",
    "    'Virginia': {\n",
    "        'population': 8518000,\n",
    "        'density': 202.6\n",
    "    },\n",
    "    'Ohio': {\n",
    "        'population': 11690000,\n",
    "        'density': 282.3\n",
    "    },\n",
    "    'Georgia': {\n",
    "        'population': 10520000,\n",
    "        'density': 149.0\n",
    "    },\n",
    "    'West Virginia': {\n",
    "        'population': 1806000,\n",
    "        'density': 77.1\n",
    "    }\n",
    "}\n",
    "for state in facts_by_state.keys():\n",
    "    facts_by_state[state]['population_per_million'] = facts_by_state[state]['population'] / 1000000"
   ]
  },
  {
   "cell_type": "code",
   "execution_count": null,
   "metadata": {},
   "outputs": [],
   "source": []
  },
  {
   "cell_type": "code",
   "execution_count": null,
   "metadata": {},
   "outputs": [],
   "source": []
  }
 ],
 "metadata": {
  "kernelspec": {
   "display_name": "Python 3",
   "language": "python",
   "name": "python3"
  },
  "language_info": {
   "codemirror_mode": {
    "name": "ipython",
    "version": 3
   },
   "file_extension": ".py",
   "mimetype": "text/x-python",
   "name": "python",
   "nbconvert_exporter": "python",
   "pygments_lexer": "ipython3",
   "version": "3.6.9"
  },
  "widgets": {
   "application/vnd.jupyter.widget-state+json": {
    "state": {},
    "version_major": 2,
    "version_minor": 0
   }
  }
 },
 "nbformat": 4,
 "nbformat_minor": 4
}
